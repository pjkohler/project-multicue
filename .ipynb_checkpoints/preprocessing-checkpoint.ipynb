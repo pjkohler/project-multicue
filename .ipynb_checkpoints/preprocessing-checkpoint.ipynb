{
 "cells": [
  {
   "cell_type": "markdown",
   "metadata": {},
   "source": [
    "## (1) import mymri function library and define variables"
   ]
  },
  {
   "cell_type": "code",
   "execution_count": 1,
   "metadata": {},
   "outputs": [],
   "source": [
    "import mymri\n",
    "#bids_dir = '/Volumes/Denali_DATA1/kohler/fMRI_EXP/BIDS_ANALYSIS'\n",
    "#fs_dir = '{0}/freesurfer/'.format(bids_dir)"
   ]
  },
  {
   "cell_type": "markdown",
   "metadata": {},
   "source": [
    "## (2) make freesurfer ROIs for the subjects"
   ]
  },
  {
   "cell_type": "code",
   "execution_count": 5,
   "metadata": {},
   "outputs": [
    {
     "name": "stdout",
     "output_type": "stream",
     "text": [
      "Running nl-0050: Benson, Glasser, Wang, KGS\n",
      "    running Benson2014:\n",
      "        skipping fsaverage_sym registration\n"
     ]
    },
    {
     "ename": "CalledProcessError",
     "evalue": "Command 'export SUBJECTS_DIR=/Volumes/svndl/anatomy/FREESURFER_SUBS; mri_surf2surf --srcsubject fsaverage_sym --srcsurfreg sphere.reg --trgsubject nl-0050_fs4/xhemi --trgsurfreg fsaverage_sym.sphere.reg                     --hemi lh --sval /Volumes/svndl/anatomy/FREESURFER_SUBS/ROI_TEMPLATES/Benson2014/all-template-2.5.sym.mgh --tval ./TEMPLATE_ROIS/rh.Benson2014.all.mgh' returned non-zero exit status 255.",
     "output_type": "error",
     "traceback": [
      "\u001b[0;31m---------------------------------------------------------------------------\u001b[0m",
      "\u001b[0;31mCalledProcessError\u001b[0m                        Traceback (most recent call last)",
      "\u001b[0;32m<ipython-input-5-3d0b16ce63f5>\u001b[0m in \u001b[0;36m<module>\u001b[0;34m\u001b[0m\n\u001b[1;32m      1\u001b[0m \u001b[0msubjects\u001b[0m \u001b[0;34m=\u001b[0m \u001b[0;34m[\u001b[0m\u001b[0;34m'nl-0050'\u001b[0m\u001b[0;34m]\u001b[0m\u001b[0;34m\u001b[0m\u001b[0m\n\u001b[0;32m----> 2\u001b[0;31m \u001b[0mmymri\u001b[0m\u001b[0;34m.\u001b[0m\u001b[0mroi_templates\u001b[0m\u001b[0;34m(\u001b[0m\u001b[0msubjects\u001b[0m\u001b[0;34m,\u001b[0m \u001b[0mroi_type\u001b[0m\u001b[0;34m=\u001b[0m\u001b[0;34m'all'\u001b[0m\u001b[0;34m)\u001b[0m\u001b[0;34m\u001b[0m\u001b[0m\n\u001b[0m",
      "\u001b[0;32m~/code/git/MRI/python/mymri/main.py\u001b[0m in \u001b[0;36mroi_templates\u001b[0;34m(subjects, roi_type, atlasdir, fs_dir, out_dir, forcex, separate_out, keep_temp, skipclust, intertype, force_new_mapping)\u001b[0m\n\u001b[1;32m   1355\u001b[0m                 shell_cmd(\"mri_surf2surf --srcsubject {2} --srcsurfreg sphere.reg --trgsubject {0}{1}/xhemi --trgsurfreg {2}.sphere.reg \\\n\u001b[1;32m   1356\u001b[0m                     \u001b[0;34m-\u001b[0m\u001b[0;34m-\u001b[0m\u001b[0mhemi\u001b[0m \u001b[0mlh\u001b[0m \u001b[0;34m-\u001b[0m\u001b[0;34m-\u001b[0m\u001b[0msval\u001b[0m \u001b[0;34m{\u001b[0m\u001b[0;36m3\u001b[0m\u001b[0;34m}\u001b[0m\u001b[0;34m/\u001b[0m\u001b[0;34m{\u001b[0m\u001b[0;36m5\u001b[0m\u001b[0;34m}\u001b[0m\u001b[0;34m/\u001b[0m\u001b[0;34m{\u001b[0m\u001b[0;36m4\u001b[0m\u001b[0;34m}\u001b[0m\u001b[0;34m-\u001b[0m\u001b[0mtemplate\u001b[0m\u001b[0;34m-\u001b[0m\u001b[0;36m2.5\u001b[0m\u001b[0;34m.\u001b[0m\u001b[0msym\u001b[0m\u001b[0;34m.\u001b[0m\u001b[0mmgh\u001b[0m \u001b[0;34m-\u001b[0m\u001b[0;34m-\u001b[0m\u001b[0mtval\u001b[0m \u001b[0;34m.\u001b[0m\u001b[0;34m/\u001b[0m\u001b[0mTEMPLATE_ROIS\u001b[0m\u001b[0;34m/\u001b[0m\u001b[0mrh\u001b[0m\u001b[0;34m.\u001b[0m\u001b[0;34m{\u001b[0m\u001b[0;36m5\u001b[0m\u001b[0;34m}\u001b[0m\u001b[0;34m.\u001b[0m\u001b[0;34m{\u001b[0m\u001b[0;36m4\u001b[0m\u001b[0;34m}\u001b[0m\u001b[0;34m.\u001b[0m\u001b[0mmgh\u001b[0m\u001b[0;31m\"\u001b[0m\u001b[0;34m\u001b[0m\u001b[0m\n\u001b[0;32m-> 1357\u001b[0;31m                           .format(sub, suffix, \"fsaverage_sym\", atlasdir, bdata, outname, tmp_dir), fs_dir)\n\u001b[0m\u001b[1;32m   1358\u001b[0m                 \u001b[0;31m# convert to suma\u001b[0m\u001b[0;34m\u001b[0m\u001b[0;34m\u001b[0m\u001b[0m\n\u001b[1;32m   1359\u001b[0m                 \u001b[0;32mfor\u001b[0m \u001b[0mhemi\u001b[0m \u001b[0;32min\u001b[0m \u001b[0;34m[\u001b[0m\u001b[0;34m\"lh\"\u001b[0m\u001b[0;34m,\u001b[0m \u001b[0;34m\"rh\"\u001b[0m\u001b[0;34m]\u001b[0m\u001b[0;34m:\u001b[0m\u001b[0;34m\u001b[0m\u001b[0m\n",
      "\u001b[0;32m~/code/git/MRI/python/mymri/main.py\u001b[0m in \u001b[0;36mshell_cmd\u001b[0;34m(main_cmd, fs_dir, do_print)\u001b[0m\n\u001b[1;32m    106\u001b[0m         \u001b[0mprint\u001b[0m\u001b[0;34m(\u001b[0m\u001b[0mmain_cmd\u001b[0m \u001b[0;34m+\u001b[0m \u001b[0;34m\"\\n\"\u001b[0m\u001b[0;34m)\u001b[0m\u001b[0;34m\u001b[0m\u001b[0m\n\u001b[1;32m    107\u001b[0m     output = subprocess.check_output(\"{0}\".format(main_cmd),\n\u001b[0;32m--> 108\u001b[0;31m                                      shell=True, stderr=subprocess.STDOUT, universal_newlines=True, encoding='utf8')\n\u001b[0m\u001b[1;32m    109\u001b[0m     \u001b[0;32mreturn\u001b[0m \u001b[0moutput\u001b[0m\u001b[0;34m\u001b[0m\u001b[0m\n\u001b[1;32m    110\u001b[0m \u001b[0;34m\u001b[0m\u001b[0m\n",
      "\u001b[0;32m~/anaconda2/envs/py37/lib/python3.6/subprocess.py\u001b[0m in \u001b[0;36mcheck_output\u001b[0;34m(timeout, *popenargs, **kwargs)\u001b[0m\n\u001b[1;32m    334\u001b[0m \u001b[0;34m\u001b[0m\u001b[0m\n\u001b[1;32m    335\u001b[0m     \u001b[0mThere\u001b[0m \u001b[0;32mis\u001b[0m \u001b[0man\u001b[0m \u001b[0madditional\u001b[0m \u001b[0moptional\u001b[0m \u001b[0margument\u001b[0m\u001b[0;34m,\u001b[0m \u001b[0;34m\"input\"\u001b[0m\u001b[0;34m,\u001b[0m \u001b[0mallowing\u001b[0m \u001b[0myou\u001b[0m \u001b[0mto\u001b[0m\u001b[0;34m\u001b[0m\u001b[0m\n\u001b[0;32m--> 336\u001b[0;31m     \u001b[0;32mpass\u001b[0m \u001b[0ma\u001b[0m \u001b[0mstring\u001b[0m \u001b[0mto\u001b[0m \u001b[0mthe\u001b[0m \u001b[0msubprocess\u001b[0m\u001b[0;31m'\u001b[0m\u001b[0ms\u001b[0m \u001b[0mstdin\u001b[0m\u001b[0;34m.\u001b[0m  \u001b[0mIf\u001b[0m \u001b[0myou\u001b[0m \u001b[0muse\u001b[0m \u001b[0mthis\u001b[0m \u001b[0margument\u001b[0m\u001b[0;34m\u001b[0m\u001b[0m\n\u001b[0m\u001b[1;32m    337\u001b[0m     \u001b[0myou\u001b[0m \u001b[0mmay\u001b[0m \u001b[0;32mnot\u001b[0m \u001b[0malso\u001b[0m \u001b[0muse\u001b[0m \u001b[0mthe\u001b[0m \u001b[0mPopen\u001b[0m \u001b[0mconstructor\u001b[0m\u001b[0;31m'\u001b[0m\u001b[0ms\u001b[0m \u001b[0;34m\"stdin\"\u001b[0m \u001b[0margument\u001b[0m\u001b[0;34m,\u001b[0m \u001b[0;32mas\u001b[0m\u001b[0;34m\u001b[0m\u001b[0m\n\u001b[1;32m    338\u001b[0m     \u001b[0mit\u001b[0m \u001b[0mtoo\u001b[0m \u001b[0mwill\u001b[0m \u001b[0mbe\u001b[0m \u001b[0mused\u001b[0m \u001b[0minternally\u001b[0m\u001b[0;34m.\u001b[0m  \u001b[0mExample\u001b[0m\u001b[0;34m:\u001b[0m\u001b[0;34m\u001b[0m\u001b[0m\n",
      "\u001b[0;32m~/anaconda2/envs/py37/lib/python3.6/subprocess.py\u001b[0m in \u001b[0;36mrun\u001b[0;34m(input, timeout, check, *popenargs, **kwargs)\u001b[0m\n\u001b[1;32m    416\u001b[0m     \u001b[0mbytes\u001b[0m\u001b[0;34m.\u001b[0m\u001b[0;34m\u001b[0m\u001b[0m\n\u001b[1;32m    417\u001b[0m     \"\"\"\n\u001b[0;32m--> 418\u001b[0;31m     \u001b[0;32mif\u001b[0m \u001b[0minput\u001b[0m \u001b[0;32mis\u001b[0m \u001b[0;32mnot\u001b[0m \u001b[0;32mNone\u001b[0m\u001b[0;34m:\u001b[0m\u001b[0;34m\u001b[0m\u001b[0m\n\u001b[0m\u001b[1;32m    419\u001b[0m         \u001b[0;32mif\u001b[0m \u001b[0;34m'stdin'\u001b[0m \u001b[0;32min\u001b[0m \u001b[0mkwargs\u001b[0m\u001b[0;34m:\u001b[0m\u001b[0;34m\u001b[0m\u001b[0m\n\u001b[1;32m    420\u001b[0m             \u001b[0;32mraise\u001b[0m \u001b[0mValueError\u001b[0m\u001b[0;34m(\u001b[0m\u001b[0;34m'stdin and input arguments may not both be used.'\u001b[0m\u001b[0;34m)\u001b[0m\u001b[0;34m\u001b[0m\u001b[0m\n",
      "\u001b[0;31mCalledProcessError\u001b[0m: Command 'export SUBJECTS_DIR=/Volumes/svndl/anatomy/FREESURFER_SUBS; mri_surf2surf --srcsubject fsaverage_sym --srcsurfreg sphere.reg --trgsubject nl-0050_fs4/xhemi --trgsurfreg fsaverage_sym.sphere.reg                     --hemi lh --sval /Volumes/svndl/anatomy/FREESURFER_SUBS/ROI_TEMPLATES/Benson2014/all-template-2.5.sym.mgh --tval ./TEMPLATE_ROIS/rh.Benson2014.all.mgh' returned non-zero exit status 255."
     ]
    }
   ],
   "source": [
    "subjects = ['nl-0050','nl-0055']\n",
    "mymri.roi_templates(subjects, roi_type='all')"
   ]
  },
  {
   "cell_type": "code",
   "execution_count": 4,
   "metadata": {},
   "outputs": [
    {
     "name": "stdout",
     "output_type": "stream",
     "text": [
      "Running nl-0008: Benson, Glasser, Wang, KGS\n",
      "    running Benson2014:\n",
      "        skipping fsaverage_sym registration\n",
      "    running Glasser2016:\n",
      "    running Wang\n",
      "        using existing mapping file from SUMA dir\n",
      "        doing clustering\n",
      "    running KGS2016:\n",
      "        file rh.MPM_VWFA2.label doesn't exist\n",
      "Running nl-0020: Benson, Glasser, Wang, KGS\n",
      "    running Benson2014:\n",
      "        skipping fsaverage_sym registration\n",
      "    running Glasser2016:\n",
      "    running Wang\n",
      "        using existing mapping file from SUMA dir\n",
      "        doing clustering\n",
      "    running KGS2016:\n",
      "        file rh.MPM_VWFA2.label doesn't exist\n",
      "    ROI output directory TEMPLATE_ROIS exists, adding '_new'\n",
      "Running nl-0024: Benson, Glasser, Wang, KGS\n",
      "    running Benson2014:\n",
      "        skipping fsaverage_sym registration\n",
      "    running Glasser2016:\n",
      "    running Wang\n",
      "        using existing mapping file from SUMA dir\n",
      "        doing clustering\n",
      "    running KGS2016:\n",
      "        file rh.MPM_VWFA2.label doesn't exist\n",
      "    ROI output directory TEMPLATE_ROIS exists, adding '_new'\n"
     ]
    }
   ],
   "source": [
    "subjects = ['nl-0008', 'nl-0020', 'nl-0024']\n",
    "mymri.roi_templates(subjects, roi_type='all')"
   ]
  },
  {
   "cell_type": "markdown",
   "metadata": {},
   "source": [
    "## (3) make hardlinks from freesurfer folder to experiment folder"
   ]
  },
  {
   "cell_type": "code",
   "execution_count": null,
   "metadata": {},
   "outputs": [],
   "source": [
    "mymri.HardCreate(bids_dir,'headmodel',subjects='all')"
   ]
  },
  {
   "cell_type": "markdown",
   "metadata": {},
   "source": [
    "## (4) convert volume data to surface data, both in native and standard space"
   ]
  },
  {
   "cell_type": "code",
   "execution_count": null,
   "metadata": {
    "scrolled": true
   },
   "outputs": [],
   "source": [
    "for exp in ['multicueAtt', \"multicue\"]:\n",
    "    exp_dir = '{0}/{1}/fmriprep'.format(bids_dir,exp)\n",
    "    mymri.vol_to_surf(experiment_dir=exp_dir, fs_dir=fs_dir, \n",
    "                      data_spec={\"detrending\": True, \"scaling\": True, \"space\": \"T1w\"}, \n",
    "                      data_type = \".nii.gz\", std141=False)\n",
    "    mymri.vol_to_surf(experiment_dir=exp_dir, fs_dir=fs_dir, \n",
    "                      data_spec={\"detrending\": True, \"scaling\": True, \"space\": \"T1w\"}, \n",
    "                      data_type = \".nii.gz\", std141=True)\n"
   ]
  },
  {
   "cell_type": "markdown",
   "metadata": {},
   "source": [
    "## (5) smooth standard space data with 3 fwhm kernel"
   ]
  },
  {
   "cell_type": "code",
   "execution_count": 3,
   "metadata": {},
   "outputs": [
    {
     "name": "stdout",
     "output_type": "stream",
     "text": [
      "Smoothing subject sub-0011, sumastd141 space, with a 3 fwhm kernel\n",
      "    Skipping already converted file ...\n",
      "Smoothing subject sub-0017, sumastd141 space, with a 3 fwhm kernel\n",
      "Smoothing subject sub-0025, sumastd141 space, with a 3 fwhm kernel\n",
      "Smoothing subject sub-0027, sumastd141 space, with a 3 fwhm kernel\n",
      "Smoothing subject sub-0033, sumastd141 space, with a 3 fwhm kernel\n",
      "Smoothing subject sub-0034, sumastd141 space, with a 3 fwhm kernel\n",
      "Smoothing subject sub-0037, sumastd141 space, with a 3 fwhm kernel\n",
      "Smoothing subject sub-0039, sumastd141 space, with a 3 fwhm kernel\n",
      "Smoothing subject sub-0040, sumastd141 space, with a 3 fwhm kernel\n",
      "Smoothing subject sub-0043, sumastd141 space, with a 3 fwhm kernel\n",
      "Smoothing subject sub-0044, sumastd141 space, with a 3 fwhm kernel\n",
      "Smoothing subject sub-0045, sumastd141 space, with a 3 fwhm kernel\n",
      "Smoothing subject sub-0047, sumastd141 space, with a 3 fwhm kernel\n",
      "Smoothing subject sub-0048, sumastd141 space, with a 3 fwhm kernel\n",
      "Smoothing subject sub-0011, sumastd141 space, with a 3 fwhm kernel\n",
      "Smoothing subject sub-0014, sumastd141 space, with a 3 fwhm kernel\n",
      "Smoothing subject sub-0016, sumastd141 space, with a 3 fwhm kernel\n",
      "Smoothing subject sub-0022, sumastd141 space, with a 3 fwhm kernel\n",
      "Smoothing subject sub-0023, sumastd141 space, with a 3 fwhm kernel\n",
      "Smoothing subject sub-0025, sumastd141 space, with a 3 fwhm kernel\n",
      "Smoothing subject sub-0027, sumastd141 space, with a 3 fwhm kernel\n",
      "Smoothing subject sub-0028, sumastd141 space, with a 3 fwhm kernel\n",
      "Smoothing subject sub-0032, sumastd141 space, with a 3 fwhm kernel\n",
      "Smoothing subject sub-0033, sumastd141 space, with a 3 fwhm kernel\n",
      "Smoothing subject sub-0034, sumastd141 space, with a 3 fwhm kernel\n",
      "Smoothing subject sub-0035, sumastd141 space, with a 3 fwhm kernel\n",
      "Smoothing subject sub-0037, sumastd141 space, with a 3 fwhm kernel\n",
      "Smoothing subject sub-0039, sumastd141 space, with a 3 fwhm kernel\n",
      "Smoothing subject sub-0040, sumastd141 space, with a 3 fwhm kernel\n"
     ]
    }
   ],
   "source": [
    "for exp in ['multicueAtt', \"multicue\"]:\n",
    "    exp_dir = '{0}/{1}/fmriprep'.format(bids_dir,exp)\n",
    "    mymri.surf_smooth(experiment_dir=exp_dir,fs_dir=fs_dir,\n",
    "                data_spec={\"detrending\": True, \"scaling\": True, \"space\": \"sumastd141\"}, \n",
    "                in_format=\".gii\", blur_size=3.0)\n"
   ]
  },
  {
   "cell_type": "markdown",
   "metadata": {},
   "source": [
    "## (6) Run ROI analysis"
   ]
  }
 ],
 "metadata": {
  "kernelspec": {
   "display_name": "Python [conda env:py37]",
   "language": "python",
   "name": "conda-env-py37-py"
  },
  "language_info": {
   "codemirror_mode": {
    "name": "ipython",
    "version": 3
   },
   "file_extension": ".py",
   "mimetype": "text/x-python",
   "name": "python",
   "nbconvert_exporter": "python",
   "pygments_lexer": "ipython3",
   "version": "3.6.6"
  }
 },
 "nbformat": 4,
 "nbformat_minor": 2
}
