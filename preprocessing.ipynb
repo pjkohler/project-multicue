{
 "cells": [
  {
   "cell_type": "markdown",
   "metadata": {},
   "source": [
    "## (1) import mymri function library and define variables"
   ]
  },
  {
   "cell_type": "code",
   "execution_count": 2,
   "metadata": {},
   "outputs": [],
   "source": [
    "import mymri\n",
    "#bids_dir = '/Volumes/Denali_DATA1/kohler/fMRI_EXP/BIDS_ANALYSIS'\n",
    "#fs_dir = '{0}/freesurfer/'.format(bids_dir)"
   ]
  },
  {
   "cell_type": "markdown",
   "metadata": {},
   "source": [
    "## (2) make freesurfer ROIs for the subjects"
   ]
  },
  {
   "cell_type": "code",
   "execution_count": 4,
   "metadata": {},
   "outputs": [
    {
     "name": "stdout",
     "output_type": "stream",
     "text": [
      "Running nl-0050: Benson, Glasser, Wang, KGS\n",
      "    running Benson2014:\n",
      "        doing fsaverage_sym registration\n",
      "    running Glasser2016:\n",
      "    running Wang\n",
      "        generating new mapping file\n",
      "        doing clustering\n",
      "    running KGS2016:\n",
      "        file rh.MPM_VWFA2.label doesn't exist\n",
      "Running nl-0055: Benson, Glasser, Wang, KGS\n",
      "    running Benson2014:\n",
      "        doing fsaverage_sym registration\n",
      "    running Glasser2016:\n",
      "    running Wang\n",
      "        generating new mapping file\n",
      "        doing clustering\n",
      "    running KGS2016:\n",
      "        file rh.MPM_VWFA2.label doesn't exist\n"
     ]
    }
   ],
   "source": [
    "subjects = ['nl-0050','nl-0055']\n",
    "mymri.roi_templates(subjects, roi_type='all')"
   ]
  },
  {
   "cell_type": "markdown",
   "metadata": {},
   "source": [
    "## (3) make hardlinks from freesurfer folder to experiment folder"
   ]
  },
  {
   "cell_type": "code",
   "execution_count": null,
   "metadata": {},
   "outputs": [],
   "source": [
    "mymri.HardCreate(bids_dir,'headmodel',subjects='all')"
   ]
  },
  {
   "cell_type": "markdown",
   "metadata": {},
   "source": [
    "## (4) scale and detrend data"
   ]
  },
  {
   "cell_type": "code",
   "execution_count": 3,
   "metadata": {},
   "outputs": [],
   "source": [
    "mymri.scale_detrend?"
   ]
  },
  {
   "cell_type": "markdown",
   "metadata": {},
   "source": [
    "## (5) convert volume data to surface data, both in native and standard space"
   ]
  },
  {
   "cell_type": "code",
   "execution_count": null,
   "metadata": {
    "scrolled": true
   },
   "outputs": [],
   "source": [
    "for exp in ['multicueAtt', \"multicue\"]:\n",
    "    exp_dir = '{0}/{1}/fmriprep'.format(bids_dir,exp)\n",
    "    mymri.vol_to_surf(experiment_dir=exp_dir, fs_dir=fs_dir, \n",
    "                      data_spec={\"detrending\": True, \"scaling\": True, \"space\": \"T1w\"}, \n",
    "                      data_type = \".nii.gz\", std141=False)\n",
    "    mymri.vol_to_surf(experiment_dir=exp_dir, fs_dir=fs_dir, \n",
    "                      data_spec={\"detrending\": True, \"scaling\": True, \"space\": \"T1w\"}, \n",
    "                      data_type = \".nii.gz\", std141=True)\n"
   ]
  },
  {
   "cell_type": "markdown",
   "metadata": {},
   "source": [
    "## (6) smooth standard space data with 3 fwhm kernel"
   ]
  },
  {
   "cell_type": "code",
   "execution_count": 3,
   "metadata": {},
   "outputs": [
    {
     "name": "stdout",
     "output_type": "stream",
     "text": [
      "Smoothing subject sub-0011, sumastd141 space, with a 3 fwhm kernel\n",
      "    Skipping already converted file ...\n",
      "Smoothing subject sub-0017, sumastd141 space, with a 3 fwhm kernel\n",
      "Smoothing subject sub-0025, sumastd141 space, with a 3 fwhm kernel\n",
      "Smoothing subject sub-0027, sumastd141 space, with a 3 fwhm kernel\n",
      "Smoothing subject sub-0033, sumastd141 space, with a 3 fwhm kernel\n",
      "Smoothing subject sub-0034, sumastd141 space, with a 3 fwhm kernel\n",
      "Smoothing subject sub-0037, sumastd141 space, with a 3 fwhm kernel\n",
      "Smoothing subject sub-0039, sumastd141 space, with a 3 fwhm kernel\n",
      "Smoothing subject sub-0040, sumastd141 space, with a 3 fwhm kernel\n",
      "Smoothing subject sub-0043, sumastd141 space, with a 3 fwhm kernel\n",
      "Smoothing subject sub-0044, sumastd141 space, with a 3 fwhm kernel\n",
      "Smoothing subject sub-0045, sumastd141 space, with a 3 fwhm kernel\n",
      "Smoothing subject sub-0047, sumastd141 space, with a 3 fwhm kernel\n",
      "Smoothing subject sub-0048, sumastd141 space, with a 3 fwhm kernel\n",
      "Smoothing subject sub-0011, sumastd141 space, with a 3 fwhm kernel\n",
      "Smoothing subject sub-0014, sumastd141 space, with a 3 fwhm kernel\n",
      "Smoothing subject sub-0016, sumastd141 space, with a 3 fwhm kernel\n",
      "Smoothing subject sub-0022, sumastd141 space, with a 3 fwhm kernel\n",
      "Smoothing subject sub-0023, sumastd141 space, with a 3 fwhm kernel\n",
      "Smoothing subject sub-0025, sumastd141 space, with a 3 fwhm kernel\n",
      "Smoothing subject sub-0027, sumastd141 space, with a 3 fwhm kernel\n",
      "Smoothing subject sub-0028, sumastd141 space, with a 3 fwhm kernel\n",
      "Smoothing subject sub-0032, sumastd141 space, with a 3 fwhm kernel\n",
      "Smoothing subject sub-0033, sumastd141 space, with a 3 fwhm kernel\n",
      "Smoothing subject sub-0034, sumastd141 space, with a 3 fwhm kernel\n",
      "Smoothing subject sub-0035, sumastd141 space, with a 3 fwhm kernel\n",
      "Smoothing subject sub-0037, sumastd141 space, with a 3 fwhm kernel\n",
      "Smoothing subject sub-0039, sumastd141 space, with a 3 fwhm kernel\n",
      "Smoothing subject sub-0040, sumastd141 space, with a 3 fwhm kernel\n"
     ]
    }
   ],
   "source": [
    "for exp in ['multicueAtt', \"multicue\"]:\n",
    "    exp_dir = '{0}/{1}/fmriprep'.format(bids_dir,exp)\n",
    "    mymri.surf_smooth(experiment_dir=exp_dir,fs_dir=fs_dir,\n",
    "                data_spec={\"detrending\": True, \"scaling\": True, \"space\": \"sumastd141\"}, \n",
    "                in_format=\".gii\", blur_size=3.0)\n"
   ]
  }
 ],
 "metadata": {
  "kernelspec": {
   "display_name": "Python [conda env:py37] *",
   "language": "python",
   "name": "conda-env-py37-py"
  },
  "language_info": {
   "codemirror_mode": {
    "name": "ipython",
    "version": 3
   },
   "file_extension": ".py",
   "mimetype": "text/x-python",
   "name": "python",
   "nbconvert_exporter": "python",
   "pygments_lexer": "ipython3",
   "version": "3.6.8"
  }
 },
 "nbformat": 4,
 "nbformat_minor": 2
}
