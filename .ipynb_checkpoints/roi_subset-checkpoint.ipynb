{
 "cells": [
  {
   "cell_type": "markdown",
   "metadata": {},
   "source": [
    "# roi subsets\n",
    "Script for making a whole brain ROI surface map as a gifti file, and a matched surface map"
   ]
  },
  {
   "cell_type": "code",
   "execution_count": 2,
   "metadata": {},
   "outputs": [],
   "source": [
    "import mymri, sys\n",
    "from os.path import expanduser\n",
    "home = expanduser(\"~\")\n",
    "sys.path.append(\"{0}/code/git/palettable\".format(home))\n",
    "import palettable\n",
    "from palettable.tableau import Tableau_10, TableauMedium_10, TableauLight_10 "
   ]
  },
  {
   "cell_type": "code",
   "execution_count": 13,
   "metadata": {},
   "outputs": [
    {
     "data": {
      "text/plain": [
       "\"3dcalc -a /Volumes/Denali_DATA1/kohler/fMRI_EXP/BIDS_ANALYSIS/group_results/std141.rh.Wang2015_cluster.gii -expr 'equals(a,1)*1+equals(a,2)*1+equals(a,3)*2+equals(a,4)*2+equals(a,5)*3+equals(a,6)*3+equals(a,7)*4+equals(a,8)*5+equals(a,9)*6+equals(a,10)*7+equals(a,11)*8+equals(a,13)*9+equals(a,14)*10+equals(a,15)*11+equals(a,16)*12+equals(a,17)*13+equals(a,18)*14+equals(a,19)*15+equals(a,20)*16+equals(a,21)*17+equals(a,24)*18' -prefix std141.rh.Wang2015_subset.gii\""
      ]
     },
     "execution_count": 13,
     "metadata": {},
     "output_type": "execute_result"
    }
   ],
   "source": [
    "roi_file = \"/Volumes/Denali_DATA1/kohler/fMRI_EXP/BIDS_ANALYSIS/group_results/std141.rh.Wang2015_cluster.gii\"\n",
    "out_file = \"/Volumes/Denali_DATA1/kohler/fMRI_EXP/BIDS_ANALYSIS/group_results/std141.rh.Wang2015_subset.gii\"\n",
    "roi_selection = [\"V1\", \"V2\", \"V3\", \"V4\", \"VO1\", \"VO2\", \"PHC1\", \"PHC2\", \"TO1\", \"LO2\", \"LO1\", \"V3b\", \"V3a\", \"IPS0\", \"IPS1\", \"IPS2\", \"IPS3\", \"SPL1\"]\n",
    "\n",
    "mymri.subset_rois(in_file=roi_file, roi_selection=roi_selection, out_file=out_file, roi_labels=\"wang\")\n"
   ]
  },
  {
   "cell_type": "code",
   "execution_count": 31,
   "metadata": {},
   "outputs": [],
   "source": [
    "# make full color map\n",
    "roi_colors = [ color for x, color in enumerate(Tableau_10.mpl_colors) if x not in [0,1,2,7] ]\n",
    "roi_colors.extend( [ color for x, color in enumerate(TableauMedium_10.mpl_colors) if x not in [0,1,2,7] ] )\n",
    "roi_colors.extend( [ color for x, color in enumerate(TableauLight_10.mpl_colors) if x not in [0,1,2,7] ] )\n",
    "cmap_file = \"/Volumes/Denali_DATA1/kohler/fMRI_EXP/BIDS_ANALYSIS/group_results/Wang2015_subset.1D.cmap\"\n",
    "\n",
    "with open(cmap_file, 'w') as f:\n",
    "    for item in reversed(roi_colors):\n",
    "        f.write(\"{0} {1} {2} \\n\".format(item[0],item[1],item[2]) )"
   ]
  },
  {
   "cell_type": "code",
   "execution_count": 11,
   "metadata": {},
   "outputs": [],
   "source": [
    "# make two color map\n",
    "two_color_file = \"/Volumes/Denali_DATA1/kohler/fMRI_EXP/BIDS_ANALYSIS/group_results/Wang2015_2color.1D.cmap\"\n",
    "two_colors = [ color for x, color in enumerate(Tableau_10.mpl_colors) if x in [0,1,2,3,4,5] ]*3\n",
    "with open(two_color_file, 'w') as f:\n",
    "    for item in reversed(two_colors):\n",
    "        f.write(\"{0} {1} {2} \\n\".format(item[0],item[1],item[2]) )"
   ]
  }
 ],
 "metadata": {
  "kernelspec": {
   "display_name": "Python (python36)",
   "language": "python",
   "name": "python36"
  },
  "language_info": {
   "codemirror_mode": {
    "name": "ipython",
    "version": 3
   },
   "file_extension": ".py",
   "mimetype": "text/x-python",
   "name": "python",
   "nbconvert_exporter": "python",
   "pygments_lexer": "ipython3",
   "version": "3.6.6"
  }
 },
 "nbformat": 4,
 "nbformat_minor": 2
}
