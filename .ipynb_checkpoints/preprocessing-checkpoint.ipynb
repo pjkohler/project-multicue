{
 "cells": [
  {
   "cell_type": "markdown",
   "metadata": {},
   "source": [
    "## (0) Set Notebook width"
   ]
  },
  {
   "cell_type": "code",
   "execution_count": null,
   "metadata": {},
   "outputs": [],
   "source": [
    "from IPython.display import display, HTML\n",
    "\n",
    "display(HTML(data=\"\"\"\n",
    "<style>\n",
    "    div#notebook-container    { width: 95%; }\n",
    "    div#menubar-container     { width: 65%; }\n",
    "    div#maintoolbar-container { width: 99%; }\n",
    "</style>\n",
    "\"\"\"))"
   ]
  },
  {
   "cell_type": "markdown",
   "metadata": {},
   "source": [
    "## (1) import mymri function library and define variables"
   ]
  },
  {
   "cell_type": "code",
   "execution_count": null,
   "metadata": {},
   "outputs": [],
   "source": [
    "import mymri\n",
    "bids_dir = '/Volumes/Denali_DATA1/kohler/fMRI_EXP/BIDS_ANALYSIS'\n",
    "fs_dir = '{0}/freesurfer/'.format(bids_dir)"
   ]
  },
  {
   "cell_type": "markdown",
   "metadata": {},
   "source": [
    "## (2) make freesurfer ROIs for the subjects"
   ]
  },
  {
   "cell_type": "code",
   "execution_count": null,
   "metadata": {},
   "outputs": [],
   "source": [
    "subjects = ['nl-0011']\n",
    "mymri.roi_templates(subjects, roi_type='all', fs_dir=fs_dir)"
   ]
  },
  {
   "cell_type": "markdown",
   "metadata": {},
   "source": [
    "## (3) make hardlinks from freesurfer folder to experiment folder"
   ]
  },
  {
   "cell_type": "code",
   "execution_count": null,
   "metadata": {},
   "outputs": [],
   "source": [
    "mymri.HardCreate(bids_dir,'headmodel',subjects='all')"
   ]
  },
  {
   "cell_type": "markdown",
   "metadata": {},
   "source": [
    "## (4) scale and detrend data"
   ]
  },
  {
   "cell_type": "code",
   "execution_count": null,
   "metadata": {},
   "outputs": [],
   "source": [
    "exp_dir = '{0}/multicue/fmriprep'.format(bids_dir,exp)\n",
    "mymri.scale_detrend(target_dir=exp_dir, subjects=None, sub_prefix=\"sub-\", tasks=\"all\", pre_tr=2, total_tr=120, scale=True, detrend=True,\n",
    "                data_spec = {\"space\": \"T1w\"}, bids_regressors=\"standard\", in_format = \".nii.gz\", overwrite=False, keep_temp=False)\n",
    "exp_dir = '{0}/multicueAtt/fmriprep'.format(bids_dir,exp)\n",
    "mymri.scale_detrend(target_dir=exp_dir, subjects=None, sub_prefix=\"sub-\", tasks=\"all\", pre_tr=6, total_tr=120, scale=True, detrend=True,\n",
    "                data_spec = {\"space\": \"T1w\"}, bids_regressors=\"standard\", in_format = \".nii.gz\", overwrite=False, keep_temp=False)"
   ]
  },
  {
   "cell_type": "markdown",
   "metadata": {},
   "source": [
    "## (5) convert volume data to surface data, both in native and standard space"
   ]
  },
  {
   "cell_type": "code",
   "execution_count": null,
   "metadata": {
    "scrolled": true
   },
   "outputs": [],
   "source": [
    "for exp in ['multicueAtt', \"multicue\"]:\n",
    "    exp_dir = '{0}/{1}/fmriprep'.format(bids_dir,exp)\n",
    "    mymri.vol_to_surf(experiment_dir=exp_dir, fs_dir=fs_dir, \n",
    "                      data_spec={\"detrending\": True, \"scaling\": True, \"space\": \"T1w\"}, \n",
    "                      data_type = \".nii.gz\", std141=False)\n",
    "    mymri.vol_to_surf(experiment_dir=exp_dir, fs_dir=fs_dir, \n",
    "                      data_spec={\"detrending\": True, \"scaling\": True, \"space\": \"T1w\"}, \n",
    "                      data_type = \".nii.gz\", std141=True)"
   ]
  },
  {
   "cell_type": "markdown",
   "metadata": {},
   "source": [
    "## (6) smooth standard space data with 3 fwhm kernel"
   ]
  },
  {
   "cell_type": "code",
   "execution_count": null,
   "metadata": {},
   "outputs": [],
   "source": [
    "for exp in ['multicueAtt', \"multicue\"]:\n",
    "    exp_dir = '{0}/{1}/fmriprep'.format(bids_dir,exp)\n",
    "    mymri.surf_smooth(experiment_dir=exp_dir,fs_dir=fs_dir,\n",
    "                data_spec={\"detrending\": True, \"scaling\": True, \"space\": \"sumastd141\"}, \n",
    "                in_format=\".gii\", blur_size=3.0)\n"
   ]
  }
 ],
 "metadata": {
  "kernelspec": {
   "display_name": "Python [conda env:py37]",
   "language": "python",
   "name": "conda-env-py37-py"
  },
  "language_info": {
   "codemirror_mode": {
    "name": "ipython",
    "version": 3
   },
   "file_extension": ".py",
   "mimetype": "text/x-python",
   "name": "python",
   "nbconvert_exporter": "python",
   "pygments_lexer": "ipython3",
   "version": "3.6.8"
  }
 },
 "nbformat": 4,
 "nbformat_minor": 2
}
